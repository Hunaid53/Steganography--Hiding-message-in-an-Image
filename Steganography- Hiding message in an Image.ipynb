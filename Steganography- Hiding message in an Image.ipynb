{
 "cells": [
  {
   "cell_type": "markdown",
   "id": "d01f797d",
   "metadata": {},
   "source": [
    "<h1 style=\"color: Blue;\">Steganography- Hiding message in an Image</h1>"
   ]
  },
  {
   "cell_type": "code",
   "execution_count": 4,
   "id": "306720d2",
   "metadata": {},
   "outputs": [
    {
     "name": "stdout",
     "output_type": "stream",
     "text": [
      "Requirement already satisfied: opencv-python in c:\\users\\admin\\anaconda\\lib\\site-packages (4.8.1.78)\n",
      "Requirement already satisfied: numpy>=1.21.2 in c:\\users\\admin\\anaconda\\lib\\site-packages (from opencv-python) (1.24.3)\n"
     ]
    }
   ],
   "source": [
    "!pip install opencv-python"
   ]
  },
  {
   "cell_type": "code",
   "execution_count": 6,
   "id": "08187d2b",
   "metadata": {},
   "outputs": [],
   "source": [
    "import cv2\n",
    "import os\n",
    "import string"
   ]
  },
  {
   "cell_type": "code",
   "execution_count": 9,
   "id": "2d4d998f",
   "metadata": {},
   "outputs": [
    {
     "name": "stdout",
     "output_type": "stream",
     "text": [
      "Enter the secret message :Help!!! Help!!!\n",
      "Enter a password :attack\n"
     ]
    }
   ],
   "source": [
    "#For Encryption\n",
    "img = cv2.imread(\"Cyber.jpg\")\n",
    "msg = input(\"Enter the secret message :\")\n",
    "password = input(\"Enter a password :\")\n",
    "\n",
    "e = {}\n",
    "d = {}\n",
    "\n",
    "for i in range(255):\n",
    "    e[chr(i)] = i\n",
    "    d[i] = chr(i)\n",
    "    \n",
    "n = 0;\n",
    "m = 0;\n",
    "z = 0;\n",
    "\n",
    "for i in range(len(msg)):\n",
    "    img[n,m,z] = e[msg[i]]\n",
    "    n = n + 1\n",
    "    m = m + 1\n",
    "    z = (z + 1) % 3\n",
    "    \n",
    "cv2.imwrite(\"EncryptedImage.jpg\", img)\n",
    "os.startfile(\"EncryptedImage.jpg\")\n",
    "\n",
    "print(\"Image Encrypted Successfully...\")"
   ]
  },
  {
   "cell_type": "code",
   "execution_count": 10,
   "id": "9f6e45fa",
   "metadata": {},
   "outputs": [
    {
     "name": "stdout",
     "output_type": "stream",
     "text": [
      "Enter a password for Decryption :attack\n",
      "Decrypted Message is :  Help!!! Help!!!\n"
     ]
    }
   ],
   "source": [
    "#For Decryption\n",
    "message = \"\"\n",
    "\n",
    "n = 0;\n",
    "m = 0;\n",
    "z = 0;\n",
    "\n",
    "pas = input(\"Enter a password for Decryption :\")\n",
    "if(password == pas):\n",
    "    for i in range(len(msg)):\n",
    "        message = message + c[img[n,m,z]]\n",
    "        n = n + 1\n",
    "        m = m + 1\n",
    "        z = (z + 1) % 3\n",
    "    print(\"Decrypted Message is : \",message)\n",
    "else:\n",
    "    print(\"You are not Authenticated!!!\")\n",
    "    "
   ]
  }
 ],
 "metadata": {
  "kernelspec": {
   "display_name": "Python 3 (ipykernel)",
   "language": "python",
   "name": "python3"
  },
  "language_info": {
   "codemirror_mode": {
    "name": "ipython",
    "version": 3
   },
   "file_extension": ".py",
   "mimetype": "text/x-python",
   "name": "python",
   "nbconvert_exporter": "python",
   "pygments_lexer": "ipython3",
   "version": "3.11.5"
  }
 },
 "nbformat": 4,
 "nbformat_minor": 5
}
